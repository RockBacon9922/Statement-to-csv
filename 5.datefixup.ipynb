{
 "cells": [
  {
   "cell_type": "code",
   "execution_count": null,
   "metadata": {},
   "outputs": [],
   "source": [
    "import pandas as pd\n",
    "\n",
    "df = pd.read_csv('statements/combined.csv')"
   ]
  },
  {
   "cell_type": "code",
   "execution_count": null,
   "metadata": {},
   "outputs": [],
   "source": [
    "# find every row where in the date column there is BROUGHT FORWARD\n",
    "# and remove the row\n",
    "df = df[df['Date'] != 'BROUGHT FORWARD']\n",
    "df = df[df['Date'] != 'nan .......']\n",
    "df = df[df['Date'] != '.......']\n",
    "\n",
    "# remove rows which are completely empty\n",
    "df = df.dropna(how='all')\n"
   ]
  },
  {
   "cell_type": "code",
   "execution_count": null,
   "metadata": {},
   "outputs": [],
   "source": [
    "# if the date column is empty, fill it with the previous date\n",
    "df['Date'] = df['Date'].fillna(method='ffill')"
   ]
  },
  {
   "cell_type": "code",
   "execution_count": null,
   "metadata": {},
   "outputs": [],
   "source": [
    "# convert the date column to datetime\n",
    "df['Date'] = pd.to_datetime(df['Date'])"
   ]
  },
  {
   "cell_type": "code",
   "execution_count": null,
   "metadata": {},
   "outputs": [],
   "source": [
    "# find every row where in the date column there is BROUGHT FORWARD\n",
    "# and remove the row\n",
    "df = df[df['Date'] != 'BROUGHT FORWARD']\n",
    "# remove rows which are completely empty\n",
    "df = df.dropna(how='all')"
   ]
  },
  {
   "cell_type": "code",
   "execution_count": null,
   "metadata": {},
   "outputs": [],
   "source": [
    "# export the file\n",
    "df.to_csv('statements/combined_Processed.csv', index=False)"
   ]
  }
 ],
 "metadata": {
  "language_info": {
   "name": "python"
  },
  "orig_nbformat": 4
 },
 "nbformat": 4,
 "nbformat_minor": 2
}
